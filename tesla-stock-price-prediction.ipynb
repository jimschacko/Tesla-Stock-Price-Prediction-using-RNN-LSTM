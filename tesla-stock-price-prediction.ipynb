{
 "cells": [
  {
   "cell_type": "code",
   "execution_count": 1,
   "id": "9c70a0d7",
   "metadata": {
    "_cell_guid": "b1076dfc-b9ad-4769-8c92-a6c4dae69d19",
    "_uuid": "8f2839f25d086af736a60e9eeb907d3b93b6e0e5",
    "execution": {
     "iopub.execute_input": "2023-06-22T19:34:14.590423Z",
     "iopub.status.busy": "2023-06-22T19:34:14.590103Z",
     "iopub.status.idle": "2023-06-22T19:34:14.604215Z",
     "shell.execute_reply": "2023-06-22T19:34:14.603113Z"
    },
    "papermill": {
     "duration": 0.027612,
     "end_time": "2023-06-22T19:34:14.606340",
     "exception": false,
     "start_time": "2023-06-22T19:34:14.578728",
     "status": "completed"
    },
    "tags": []
   },
   "outputs": [
    {
     "name": "stdout",
     "output_type": "stream",
     "text": [
      "/kaggle/input/tesla-inc-last-5-years-stock-historical-data/TSLA Testing.csv\n",
      "/kaggle/input/tesla-inc-last-5-years-stock-historical-data/TSLA training.csv\n"
     ]
    }
   ],
   "source": [
    "import os\n",
    "for dirname, _, filenames in os.walk('/kaggle/input'):\n",
    "    for filename in filenames:\n",
    "        print(os.path.join(dirname, filename))"
   ]
  },
  {
   "cell_type": "code",
   "execution_count": 2,
   "id": "ff5d37b4",
   "metadata": {
    "execution": {
     "iopub.execute_input": "2023-06-22T19:34:14.623771Z",
     "iopub.status.busy": "2023-06-22T19:34:14.623058Z",
     "iopub.status.idle": "2023-06-22T19:34:14.627746Z",
     "shell.execute_reply": "2023-06-22T19:34:14.627091Z"
    },
    "papermill": {
     "duration": 0.016061,
     "end_time": "2023-06-22T19:34:14.629699",
     "exception": false,
     "start_time": "2023-06-22T19:34:14.613638",
     "status": "completed"
    },
    "tags": []
   },
   "outputs": [],
   "source": [
    "import pandas as pd\n",
    "import numpy as np\n",
    "import matplotlib.pyplot as plt"
   ]
  },
  {
   "cell_type": "code",
   "execution_count": 3,
   "id": "0ab45528",
   "metadata": {
    "execution": {
     "iopub.execute_input": "2023-06-22T19:34:14.646156Z",
     "iopub.status.busy": "2023-06-22T19:34:14.645466Z",
     "iopub.status.idle": "2023-06-22T19:34:14.670643Z",
     "shell.execute_reply": "2023-06-22T19:34:14.669759Z"
    },
    "papermill": {
     "duration": 0.036201,
     "end_time": "2023-06-22T19:34:14.673162",
     "exception": false,
     "start_time": "2023-06-22T19:34:14.636961",
     "status": "completed"
    },
    "tags": []
   },
   "outputs": [],
   "source": [
    "training_data = pd.read_csv('/kaggle/input/tesla-inc-last-5-years-stock-historical-data/TSLA training.csv')"
   ]
  },
  {
   "cell_type": "code",
   "execution_count": 4,
   "id": "8a26cb7b",
   "metadata": {
    "execution": {
     "iopub.execute_input": "2023-06-22T19:34:14.689409Z",
     "iopub.status.busy": "2023-06-22T19:34:14.689051Z",
     "iopub.status.idle": "2023-06-22T19:34:14.724730Z",
     "shell.execute_reply": "2023-06-22T19:34:14.723483Z"
    },
    "papermill": {
     "duration": 0.045825,
     "end_time": "2023-06-22T19:34:14.726457",
     "exception": false,
     "start_time": "2023-06-22T19:34:14.680632",
     "status": "completed"
    },
    "tags": []
   },
   "outputs": [
    {
     "data": {
      "text/html": [
       "<div>\n",
       "<style scoped>\n",
       "    .dataframe tbody tr th:only-of-type {\n",
       "        vertical-align: middle;\n",
       "    }\n",
       "\n",
       "    .dataframe tbody tr th {\n",
       "        vertical-align: top;\n",
       "    }\n",
       "\n",
       "    .dataframe thead th {\n",
       "        text-align: right;\n",
       "    }\n",
       "</style>\n",
       "<table border=\"1\" class=\"dataframe\">\n",
       "  <thead>\n",
       "    <tr style=\"text-align: right;\">\n",
       "      <th></th>\n",
       "      <th>Date</th>\n",
       "      <th>Open</th>\n",
       "      <th>High</th>\n",
       "      <th>Low</th>\n",
       "      <th>Close</th>\n",
       "      <th>Adj Close</th>\n",
       "      <th>Volume</th>\n",
       "    </tr>\n",
       "  </thead>\n",
       "  <tbody>\n",
       "    <tr>\n",
       "      <th>0</th>\n",
       "      <td>2018-06-22</td>\n",
       "      <td>23.436001</td>\n",
       "      <td>23.483334</td>\n",
       "      <td>22.133333</td>\n",
       "      <td>22.242001</td>\n",
       "      <td>22.242001</td>\n",
       "      <td>153991500</td>\n",
       "    </tr>\n",
       "    <tr>\n",
       "      <th>1</th>\n",
       "      <td>2018-06-25</td>\n",
       "      <td>22.007999</td>\n",
       "      <td>22.564667</td>\n",
       "      <td>21.833332</td>\n",
       "      <td>22.200666</td>\n",
       "      <td>22.200666</td>\n",
       "      <td>103969500</td>\n",
       "    </tr>\n",
       "    <tr>\n",
       "      <th>2</th>\n",
       "      <td>2018-06-26</td>\n",
       "      <td>22.403334</td>\n",
       "      <td>22.903334</td>\n",
       "      <td>21.719999</td>\n",
       "      <td>22.799999</td>\n",
       "      <td>22.799999</td>\n",
       "      <td>111787500</td>\n",
       "    </tr>\n",
       "    <tr>\n",
       "      <th>3</th>\n",
       "      <td>2018-06-27</td>\n",
       "      <td>23.000000</td>\n",
       "      <td>23.386000</td>\n",
       "      <td>22.633333</td>\n",
       "      <td>22.966667</td>\n",
       "      <td>22.966667</td>\n",
       "      <td>125005500</td>\n",
       "    </tr>\n",
       "    <tr>\n",
       "      <th>4</th>\n",
       "      <td>2018-06-28</td>\n",
       "      <td>23.243999</td>\n",
       "      <td>23.801332</td>\n",
       "      <td>23.073999</td>\n",
       "      <td>23.328667</td>\n",
       "      <td>23.328667</td>\n",
       "      <td>125970000</td>\n",
       "    </tr>\n",
       "  </tbody>\n",
       "</table>\n",
       "</div>"
      ],
      "text/plain": [
       "         Date       Open       High        Low      Close  Adj Close  \\\n",
       "0  2018-06-22  23.436001  23.483334  22.133333  22.242001  22.242001   \n",
       "1  2018-06-25  22.007999  22.564667  21.833332  22.200666  22.200666   \n",
       "2  2018-06-26  22.403334  22.903334  21.719999  22.799999  22.799999   \n",
       "3  2018-06-27  23.000000  23.386000  22.633333  22.966667  22.966667   \n",
       "4  2018-06-28  23.243999  23.801332  23.073999  23.328667  23.328667   \n",
       "\n",
       "      Volume  \n",
       "0  153991500  \n",
       "1  103969500  \n",
       "2  111787500  \n",
       "3  125005500  \n",
       "4  125970000  "
      ]
     },
     "execution_count": 4,
     "metadata": {},
     "output_type": "execute_result"
    }
   ],
   "source": [
    "training_data.head()"
   ]
  },
  {
   "cell_type": "code",
   "execution_count": 5,
   "id": "f9d42692",
   "metadata": {
    "execution": {
     "iopub.execute_input": "2023-06-22T19:34:14.745242Z",
     "iopub.status.busy": "2023-06-22T19:34:14.744442Z",
     "iopub.status.idle": "2023-06-22T19:34:14.759185Z",
     "shell.execute_reply": "2023-06-22T19:34:14.758167Z"
    },
    "papermill": {
     "duration": 0.027104,
     "end_time": "2023-06-22T19:34:14.761372",
     "exception": false,
     "start_time": "2023-06-22T19:34:14.734268",
     "status": "completed"
    },
    "tags": []
   },
   "outputs": [
    {
     "data": {
      "text/html": [
       "<div>\n",
       "<style scoped>\n",
       "    .dataframe tbody tr th:only-of-type {\n",
       "        vertical-align: middle;\n",
       "    }\n",
       "\n",
       "    .dataframe tbody tr th {\n",
       "        vertical-align: top;\n",
       "    }\n",
       "\n",
       "    .dataframe thead th {\n",
       "        text-align: right;\n",
       "    }\n",
       "</style>\n",
       "<table border=\"1\" class=\"dataframe\">\n",
       "  <thead>\n",
       "    <tr style=\"text-align: right;\">\n",
       "      <th></th>\n",
       "      <th>Date</th>\n",
       "      <th>Open</th>\n",
       "      <th>High</th>\n",
       "      <th>Low</th>\n",
       "      <th>Close</th>\n",
       "      <th>Adj Close</th>\n",
       "      <th>Volume</th>\n",
       "    </tr>\n",
       "  </thead>\n",
       "  <tbody>\n",
       "    <tr>\n",
       "      <th>1252</th>\n",
       "      <td>2023-06-14</td>\n",
       "      <td>260.170013</td>\n",
       "      <td>261.570007</td>\n",
       "      <td>250.500000</td>\n",
       "      <td>256.790009</td>\n",
       "      <td>256.790009</td>\n",
       "      <td>170575500</td>\n",
       "    </tr>\n",
       "    <tr>\n",
       "      <th>1253</th>\n",
       "      <td>2023-06-15</td>\n",
       "      <td>248.399994</td>\n",
       "      <td>258.950012</td>\n",
       "      <td>247.289993</td>\n",
       "      <td>255.899994</td>\n",
       "      <td>255.899994</td>\n",
       "      <td>160171200</td>\n",
       "    </tr>\n",
       "    <tr>\n",
       "      <th>1254</th>\n",
       "      <td>2023-06-16</td>\n",
       "      <td>258.920013</td>\n",
       "      <td>263.600006</td>\n",
       "      <td>257.209991</td>\n",
       "      <td>260.540009</td>\n",
       "      <td>260.540009</td>\n",
       "      <td>167563700</td>\n",
       "    </tr>\n",
       "    <tr>\n",
       "      <th>1255</th>\n",
       "      <td>2023-06-20</td>\n",
       "      <td>261.500000</td>\n",
       "      <td>274.750000</td>\n",
       "      <td>261.119995</td>\n",
       "      <td>274.450012</td>\n",
       "      <td>274.450012</td>\n",
       "      <td>165611200</td>\n",
       "    </tr>\n",
       "    <tr>\n",
       "      <th>1256</th>\n",
       "      <td>2023-06-21</td>\n",
       "      <td>275.130005</td>\n",
       "      <td>276.989990</td>\n",
       "      <td>257.779999</td>\n",
       "      <td>259.459991</td>\n",
       "      <td>259.459991</td>\n",
       "      <td>210937500</td>\n",
       "    </tr>\n",
       "  </tbody>\n",
       "</table>\n",
       "</div>"
      ],
      "text/plain": [
       "            Date        Open        High         Low       Close   Adj Close  \\\n",
       "1252  2023-06-14  260.170013  261.570007  250.500000  256.790009  256.790009   \n",
       "1253  2023-06-15  248.399994  258.950012  247.289993  255.899994  255.899994   \n",
       "1254  2023-06-16  258.920013  263.600006  257.209991  260.540009  260.540009   \n",
       "1255  2023-06-20  261.500000  274.750000  261.119995  274.450012  274.450012   \n",
       "1256  2023-06-21  275.130005  276.989990  257.779999  259.459991  259.459991   \n",
       "\n",
       "         Volume  \n",
       "1252  170575500  \n",
       "1253  160171200  \n",
       "1254  167563700  \n",
       "1255  165611200  \n",
       "1256  210937500  "
      ]
     },
     "execution_count": 5,
     "metadata": {},
     "output_type": "execute_result"
    }
   ],
   "source": [
    "training_data.tail()"
   ]
  },
  {
   "cell_type": "code",
   "execution_count": 6,
   "id": "7d9a66e5",
   "metadata": {
    "execution": {
     "iopub.execute_input": "2023-06-22T19:34:14.781445Z",
     "iopub.status.busy": "2023-06-22T19:34:14.780619Z",
     "iopub.status.idle": "2023-06-22T19:34:14.785721Z",
     "shell.execute_reply": "2023-06-22T19:34:14.785095Z"
    },
    "papermill": {
     "duration": 0.017111,
     "end_time": "2023-06-22T19:34:14.787358",
     "exception": false,
     "start_time": "2023-06-22T19:34:14.770247",
     "status": "completed"
    },
    "tags": []
   },
   "outputs": [
    {
     "data": {
      "text/plain": [
       "(1257, 7)"
      ]
     },
     "execution_count": 6,
     "metadata": {},
     "output_type": "execute_result"
    }
   ],
   "source": [
    "training_data.shape"
   ]
  },
  {
   "cell_type": "markdown",
   "id": "3efae1f0",
   "metadata": {
    "papermill": {
     "duration": 0.008702,
     "end_time": "2023-06-22T19:34:14.805620",
     "exception": false,
     "start_time": "2023-06-22T19:34:14.796918",
     "status": "completed"
    },
    "tags": []
   },
   "source": [
    "\n",
    "\n"
   ]
  },
  {
   "cell_type": "code",
   "execution_count": 7,
   "id": "5bcf1da3",
   "metadata": {
    "execution": {
     "iopub.execute_input": "2023-06-22T19:34:14.824355Z",
     "iopub.status.busy": "2023-06-22T19:34:14.823485Z",
     "iopub.status.idle": "2023-06-22T19:34:14.853571Z",
     "shell.execute_reply": "2023-06-22T19:34:14.851979Z"
    },
    "papermill": {
     "duration": 0.041811,
     "end_time": "2023-06-22T19:34:14.855808",
     "exception": false,
     "start_time": "2023-06-22T19:34:14.813997",
     "status": "completed"
    },
    "tags": []
   },
   "outputs": [
    {
     "name": "stdout",
     "output_type": "stream",
     "text": [
      "<class 'pandas.core.frame.DataFrame'>\n",
      "RangeIndex: 1257 entries, 0 to 1256\n",
      "Data columns (total 7 columns):\n",
      " #   Column     Non-Null Count  Dtype  \n",
      "---  ------     --------------  -----  \n",
      " 0   Date       1257 non-null   object \n",
      " 1   Open       1257 non-null   float64\n",
      " 2   High       1257 non-null   float64\n",
      " 3   Low        1257 non-null   float64\n",
      " 4   Close      1257 non-null   float64\n",
      " 5   Adj Close  1257 non-null   float64\n",
      " 6   Volume     1257 non-null   int64  \n",
      "dtypes: float64(5), int64(1), object(1)\n",
      "memory usage: 68.9+ KB\n"
     ]
    }
   ],
   "source": [
    "training_data.info()"
   ]
  },
  {
   "cell_type": "code",
   "execution_count": 8,
   "id": "efea1b77",
   "metadata": {
    "execution": {
     "iopub.execute_input": "2023-06-22T19:34:14.876500Z",
     "iopub.status.busy": "2023-06-22T19:34:14.875712Z",
     "iopub.status.idle": "2023-06-22T19:34:14.880414Z",
     "shell.execute_reply": "2023-06-22T19:34:14.879726Z"
    },
    "papermill": {
     "duration": 0.017371,
     "end_time": "2023-06-22T19:34:14.882566",
     "exception": false,
     "start_time": "2023-06-22T19:34:14.865195",
     "status": "completed"
    },
    "tags": []
   },
   "outputs": [],
   "source": [
    "training_set = training_data.iloc[:, 1:2].values"
   ]
  },
  {
   "cell_type": "code",
   "execution_count": 9,
   "id": "256c78a5",
   "metadata": {
    "execution": {
     "iopub.execute_input": "2023-06-22T19:34:14.899291Z",
     "iopub.status.busy": "2023-06-22T19:34:14.898932Z",
     "iopub.status.idle": "2023-06-22T19:34:14.906935Z",
     "shell.execute_reply": "2023-06-22T19:34:14.905823Z"
    },
    "papermill": {
     "duration": 0.019003,
     "end_time": "2023-06-22T19:34:14.909265",
     "exception": false,
     "start_time": "2023-06-22T19:34:14.890262",
     "status": "completed"
    },
    "tags": []
   },
   "outputs": [
    {
     "data": {
      "text/plain": [
       "((1257, 1), (1257, 7))"
      ]
     },
     "execution_count": 9,
     "metadata": {},
     "output_type": "execute_result"
    }
   ],
   "source": [
    "training_set.shape, training_data.shape"
   ]
  },
  {
   "cell_type": "code",
   "execution_count": 10,
   "id": "95530d14",
   "metadata": {
    "execution": {
     "iopub.execute_input": "2023-06-22T19:34:14.926988Z",
     "iopub.status.busy": "2023-06-22T19:34:14.926640Z",
     "iopub.status.idle": "2023-06-22T19:34:16.300967Z",
     "shell.execute_reply": "2023-06-22T19:34:16.299071Z"
    },
    "papermill": {
     "duration": 1.386393,
     "end_time": "2023-06-22T19:34:16.303748",
     "exception": false,
     "start_time": "2023-06-22T19:34:14.917355",
     "status": "completed"
    },
    "tags": []
   },
   "outputs": [],
   "source": [
    "# feature scaling\n",
    "from sklearn.preprocessing import MinMaxScaler\n",
    "sc = MinMaxScaler(feature_range=(0,1))\n",
    "training_set_scaled = sc.fit_transform(training_set)"
   ]
  },
  {
   "cell_type": "code",
   "execution_count": 11,
   "id": "35b1aabc",
   "metadata": {
    "execution": {
     "iopub.execute_input": "2023-06-22T19:34:16.321445Z",
     "iopub.status.busy": "2023-06-22T19:34:16.321089Z",
     "iopub.status.idle": "2023-06-22T19:34:16.329749Z",
     "shell.execute_reply": "2023-06-22T19:34:16.327862Z"
    },
    "papermill": {
     "duration": 0.020841,
     "end_time": "2023-06-22T19:34:16.332512",
     "exception": false,
     "start_time": "2023-06-22T19:34:16.311671",
     "status": "completed"
    },
    "tags": []
   },
   "outputs": [
    {
     "data": {
      "text/plain": [
       "array([[0.02844958],\n",
       "       [0.02487418],\n",
       "       [0.02586401],\n",
       "       ...,\n",
       "       [0.61804892],\n",
       "       [0.62450863],\n",
       "       [0.65863512]])"
      ]
     },
     "execution_count": 11,
     "metadata": {},
     "output_type": "execute_result"
    }
   ],
   "source": [
    "training_set_scaled"
   ]
  },
  {
   "cell_type": "code",
   "execution_count": 12,
   "id": "44d22326",
   "metadata": {
    "execution": {
     "iopub.execute_input": "2023-06-22T19:34:16.350335Z",
     "iopub.status.busy": "2023-06-22T19:34:16.349985Z",
     "iopub.status.idle": "2023-06-22T19:34:16.358011Z",
     "shell.execute_reply": "2023-06-22T19:34:16.356813Z"
    },
    "papermill": {
     "duration": 0.019551,
     "end_time": "2023-06-22T19:34:16.360084",
     "exception": false,
     "start_time": "2023-06-22T19:34:16.340533",
     "status": "completed"
    },
    "tags": []
   },
   "outputs": [],
   "source": [
    "# Creating a data structure with 60 timesteps and 1 output\n",
    "x_train = []\n",
    "y_train = []\n",
    "\n",
    "for i in range(60, 1257):\n",
    "  x_train.append(training_set_scaled[i-60:i, 0])\n",
    "  y_train.append(training_set_scaled[i, 0])\n",
    "\n",
    "# converting x_train and y_train into numpy array\n",
    "x_train, y_train = np.array(x_train), np.array(y_train)"
   ]
  },
  {
   "cell_type": "code",
   "execution_count": 13,
   "id": "03ccb3d3",
   "metadata": {
    "execution": {
     "iopub.execute_input": "2023-06-22T19:34:16.377604Z",
     "iopub.status.busy": "2023-06-22T19:34:16.377249Z",
     "iopub.status.idle": "2023-06-22T19:34:16.383918Z",
     "shell.execute_reply": "2023-06-22T19:34:16.382990Z"
    },
    "papermill": {
     "duration": 0.017635,
     "end_time": "2023-06-22T19:34:16.385721",
     "exception": false,
     "start_time": "2023-06-22T19:34:16.368086",
     "status": "completed"
    },
    "tags": []
   },
   "outputs": [
    {
     "data": {
      "text/plain": [
       "array([[0.02844958, 0.02487418, 0.02586401, ..., 0.01784692, 0.01797044,\n",
       "        0.0181841 ],\n",
       "       [0.02487418, 0.02586401, 0.02735793, ..., 0.01797044, 0.0181841 ,\n",
       "        0.0192941 ],\n",
       "       [0.02586401, 0.02735793, 0.02796885, ..., 0.0181841 , 0.0192941 ,\n",
       "        0.01659336],\n",
       "       ...,\n",
       "       [0.46877374, 0.45865846, 0.44961983, ..., 0.60450345, 0.62117864,\n",
       "        0.59170915],\n",
       "       [0.45865846, 0.44961983, 0.4565553 , ..., 0.62117864, 0.59170915,\n",
       "        0.61804892],\n",
       "       [0.44961983, 0.4565553 , 0.45049616, ..., 0.59170915, 0.61804892,\n",
       "        0.62450863]])"
      ]
     },
     "execution_count": 13,
     "metadata": {},
     "output_type": "execute_result"
    }
   ],
   "source": [
    "x_train"
   ]
  },
  {
   "cell_type": "code",
   "execution_count": 14,
   "id": "29363d64",
   "metadata": {
    "execution": {
     "iopub.execute_input": "2023-06-22T19:34:16.403476Z",
     "iopub.status.busy": "2023-06-22T19:34:16.403084Z",
     "iopub.status.idle": "2023-06-22T19:34:16.411298Z",
     "shell.execute_reply": "2023-06-22T19:34:16.409707Z"
    },
    "papermill": {
     "duration": 0.019403,
     "end_time": "2023-06-22T19:34:16.413330",
     "exception": false,
     "start_time": "2023-06-22T19:34:16.393927",
     "status": "completed"
    },
    "tags": []
   },
   "outputs": [
    {
     "data": {
      "text/plain": [
       "array([0.0192941 , 0.01659336, 0.02044083, ..., 0.61804892, 0.62450863,\n",
       "       0.65863512])"
      ]
     },
     "execution_count": 14,
     "metadata": {},
     "output_type": "execute_result"
    }
   ],
   "source": [
    "y_train"
   ]
  },
  {
   "cell_type": "code",
   "execution_count": 15,
   "id": "24d00536",
   "metadata": {
    "execution": {
     "iopub.execute_input": "2023-06-22T19:34:16.431387Z",
     "iopub.status.busy": "2023-06-22T19:34:16.431018Z",
     "iopub.status.idle": "2023-06-22T19:34:16.438089Z",
     "shell.execute_reply": "2023-06-22T19:34:16.436689Z"
    },
    "papermill": {
     "duration": 0.018267,
     "end_time": "2023-06-22T19:34:16.439971",
     "exception": false,
     "start_time": "2023-06-22T19:34:16.421704",
     "status": "completed"
    },
    "tags": []
   },
   "outputs": [
    {
     "data": {
      "text/plain": [
       "(1197, 60)"
      ]
     },
     "execution_count": 15,
     "metadata": {},
     "output_type": "execute_result"
    }
   ],
   "source": [
    "x_train.shape"
   ]
  },
  {
   "cell_type": "code",
   "execution_count": 16,
   "id": "e458db7f",
   "metadata": {
    "execution": {
     "iopub.execute_input": "2023-06-22T19:34:16.459342Z",
     "iopub.status.busy": "2023-06-22T19:34:16.457788Z",
     "iopub.status.idle": "2023-06-22T19:34:16.462984Z",
     "shell.execute_reply": "2023-06-22T19:34:16.461999Z"
    },
    "papermill": {
     "duration": 0.016354,
     "end_time": "2023-06-22T19:34:16.464745",
     "exception": false,
     "start_time": "2023-06-22T19:34:16.448391",
     "status": "completed"
    },
    "tags": []
   },
   "outputs": [],
   "source": [
    "# reshaping dataset\n",
    "x_train = x_train.reshape(1197, 60, 1)"
   ]
  },
  {
   "cell_type": "code",
   "execution_count": 17,
   "id": "588632aa",
   "metadata": {
    "execution": {
     "iopub.execute_input": "2023-06-22T19:34:16.483837Z",
     "iopub.status.busy": "2023-06-22T19:34:16.483466Z",
     "iopub.status.idle": "2023-06-22T19:34:16.491333Z",
     "shell.execute_reply": "2023-06-22T19:34:16.490118Z"
    },
    "papermill": {
     "duration": 0.020229,
     "end_time": "2023-06-22T19:34:16.493217",
     "exception": false,
     "start_time": "2023-06-22T19:34:16.472988",
     "status": "completed"
    },
    "tags": []
   },
   "outputs": [
    {
     "data": {
      "text/plain": [
       "(1197, 60, 1)"
      ]
     },
     "execution_count": 17,
     "metadata": {},
     "output_type": "execute_result"
    }
   ],
   "source": [
    "x_train.shape"
   ]
  },
  {
   "cell_type": "markdown",
   "id": "0d98df17",
   "metadata": {
    "papermill": {
     "duration": 0.007903,
     "end_time": "2023-06-22T19:34:16.509421",
     "exception": false,
     "start_time": "2023-06-22T19:34:16.501518",
     "status": "completed"
    },
    "tags": []
   },
   "source": [
    "**#Building LSTM**"
   ]
  },
  {
   "cell_type": "code",
   "execution_count": 18,
   "id": "fe9f607e",
   "metadata": {
    "execution": {
     "iopub.execute_input": "2023-06-22T19:34:16.528408Z",
     "iopub.status.busy": "2023-06-22T19:34:16.528004Z",
     "iopub.status.idle": "2023-06-22T19:34:37.418607Z",
     "shell.execute_reply": "2023-06-22T19:34:37.417123Z"
    },
    "papermill": {
     "duration": 20.903884,
     "end_time": "2023-06-22T19:34:37.421591",
     "exception": false,
     "start_time": "2023-06-22T19:34:16.517707",
     "status": "completed"
    },
    "tags": []
   },
   "outputs": [
    {
     "name": "stdout",
     "output_type": "stream",
     "text": [
      "Requirement already satisfied: tensorflow==2.12.0 in /opt/conda/lib/python3.10/site-packages (2.12.0)\r\n",
      "Requirement already satisfied: absl-py>=1.0.0 in /opt/conda/lib/python3.10/site-packages (from tensorflow==2.12.0) (1.4.0)\r\n",
      "Requirement already satisfied: astunparse>=1.6.0 in /opt/conda/lib/python3.10/site-packages (from tensorflow==2.12.0) (1.6.3)\r\n",
      "Requirement already satisfied: flatbuffers>=2.0 in /opt/conda/lib/python3.10/site-packages (from tensorflow==2.12.0) (23.3.3)\r\n",
      "Requirement already satisfied: gast<=0.4.0,>=0.2.1 in /opt/conda/lib/python3.10/site-packages (from tensorflow==2.12.0) (0.4.0)\r\n",
      "Requirement already satisfied: google-pasta>=0.1.1 in /opt/conda/lib/python3.10/site-packages (from tensorflow==2.12.0) (0.2.0)\r\n",
      "Requirement already satisfied: grpcio<2.0,>=1.24.3 in /opt/conda/lib/python3.10/site-packages (from tensorflow==2.12.0) (1.51.3)\r\n",
      "Requirement already satisfied: h5py>=2.9.0 in /opt/conda/lib/python3.10/site-packages (from tensorflow==2.12.0) (3.8.0)\r\n",
      "Requirement already satisfied: jax>=0.3.15 in /opt/conda/lib/python3.10/site-packages (from tensorflow==2.12.0) (0.4.8)\r\n",
      "Requirement already satisfied: keras<2.13,>=2.12.0 in /opt/conda/lib/python3.10/site-packages (from tensorflow==2.12.0) (2.12.0)\r\n",
      "Requirement already satisfied: libclang>=13.0.0 in /opt/conda/lib/python3.10/site-packages (from tensorflow==2.12.0) (16.0.0)\r\n",
      "Requirement already satisfied: numpy<1.24,>=1.22 in /opt/conda/lib/python3.10/site-packages (from tensorflow==2.12.0) (1.23.5)\r\n",
      "Requirement already satisfied: opt-einsum>=2.3.2 in /opt/conda/lib/python3.10/site-packages (from tensorflow==2.12.0) (3.3.0)\r\n",
      "Requirement already satisfied: packaging in /opt/conda/lib/python3.10/site-packages (from tensorflow==2.12.0) (21.3)\r\n",
      "Requirement already satisfied: protobuf!=4.21.0,!=4.21.1,!=4.21.2,!=4.21.3,!=4.21.4,!=4.21.5,<5.0.0dev,>=3.20.3 in /opt/conda/lib/python3.10/site-packages (from tensorflow==2.12.0) (3.20.3)\r\n",
      "Requirement already satisfied: setuptools in /opt/conda/lib/python3.10/site-packages (from tensorflow==2.12.0) (59.8.0)\r\n",
      "Requirement already satisfied: six>=1.12.0 in /opt/conda/lib/python3.10/site-packages (from tensorflow==2.12.0) (1.16.0)\r\n",
      "Requirement already satisfied: tensorboard<2.13,>=2.12 in /opt/conda/lib/python3.10/site-packages (from tensorflow==2.12.0) (2.12.3)\r\n",
      "Requirement already satisfied: tensorflow-estimator<2.13,>=2.12.0 in /opt/conda/lib/python3.10/site-packages (from tensorflow==2.12.0) (2.12.0)\r\n",
      "Requirement already satisfied: termcolor>=1.1.0 in /opt/conda/lib/python3.10/site-packages (from tensorflow==2.12.0) (2.3.0)\r\n",
      "Requirement already satisfied: typing-extensions>=3.6.6 in /opt/conda/lib/python3.10/site-packages (from tensorflow==2.12.0) (4.5.0)\r\n",
      "Requirement already satisfied: wrapt<1.15,>=1.11.0 in /opt/conda/lib/python3.10/site-packages (from tensorflow==2.12.0) (1.14.1)\r\n",
      "Requirement already satisfied: tensorflow-io-gcs-filesystem>=0.23.1 in /opt/conda/lib/python3.10/site-packages (from tensorflow==2.12.0) (0.31.0)\r\n",
      "Requirement already satisfied: wheel<1.0,>=0.23.0 in /opt/conda/lib/python3.10/site-packages (from astunparse>=1.6.0->tensorflow==2.12.0) (0.40.0)\r\n",
      "Requirement already satisfied: ml-dtypes>=0.0.3 in /opt/conda/lib/python3.10/site-packages (from jax>=0.3.15->tensorflow==2.12.0) (0.1.0)\r\n",
      "Requirement already satisfied: scipy>=1.7 in /opt/conda/lib/python3.10/site-packages (from jax>=0.3.15->tensorflow==2.12.0) (1.10.1)\r\n",
      "Requirement already satisfied: google-auth<3,>=1.6.3 in /opt/conda/lib/python3.10/site-packages (from tensorboard<2.13,>=2.12->tensorflow==2.12.0) (2.17.3)\r\n",
      "Requirement already satisfied: google-auth-oauthlib<1.1,>=0.5 in /opt/conda/lib/python3.10/site-packages (from tensorboard<2.13,>=2.12->tensorflow==2.12.0) (1.0.0)\r\n",
      "Requirement already satisfied: markdown>=2.6.8 in /opt/conda/lib/python3.10/site-packages (from tensorboard<2.13,>=2.12->tensorflow==2.12.0) (3.4.3)\r\n",
      "Requirement already satisfied: requests<3,>=2.21.0 in /opt/conda/lib/python3.10/site-packages (from tensorboard<2.13,>=2.12->tensorflow==2.12.0) (2.28.2)\r\n",
      "Requirement already satisfied: tensorboard-data-server<0.8.0,>=0.7.0 in /opt/conda/lib/python3.10/site-packages (from tensorboard<2.13,>=2.12->tensorflow==2.12.0) (0.7.0)\r\n",
      "Requirement already satisfied: werkzeug>=1.0.1 in /opt/conda/lib/python3.10/site-packages (from tensorboard<2.13,>=2.12->tensorflow==2.12.0) (2.3.6)\r\n",
      "Requirement already satisfied: pyparsing!=3.0.5,>=2.0.2 in /opt/conda/lib/python3.10/site-packages (from packaging->tensorflow==2.12.0) (3.0.9)\r\n",
      "Requirement already satisfied: cachetools<6.0,>=2.0.0 in /opt/conda/lib/python3.10/site-packages (from google-auth<3,>=1.6.3->tensorboard<2.13,>=2.12->tensorflow==2.12.0) (4.2.4)\r\n",
      "Requirement already satisfied: pyasn1-modules>=0.2.1 in /opt/conda/lib/python3.10/site-packages (from google-auth<3,>=1.6.3->tensorboard<2.13,>=2.12->tensorflow==2.12.0) (0.2.7)\r\n",
      "Requirement already satisfied: rsa<5,>=3.1.4 in /opt/conda/lib/python3.10/site-packages (from google-auth<3,>=1.6.3->tensorboard<2.13,>=2.12->tensorflow==2.12.0) (4.9)\r\n",
      "Requirement already satisfied: requests-oauthlib>=0.7.0 in /opt/conda/lib/python3.10/site-packages (from google-auth-oauthlib<1.1,>=0.5->tensorboard<2.13,>=2.12->tensorflow==2.12.0) (1.3.1)\r\n",
      "Requirement already satisfied: charset-normalizer<4,>=2 in /opt/conda/lib/python3.10/site-packages (from requests<3,>=2.21.0->tensorboard<2.13,>=2.12->tensorflow==2.12.0) (2.1.1)\r\n",
      "Requirement already satisfied: idna<4,>=2.5 in /opt/conda/lib/python3.10/site-packages (from requests<3,>=2.21.0->tensorboard<2.13,>=2.12->tensorflow==2.12.0) (3.4)\r\n",
      "Requirement already satisfied: urllib3<1.27,>=1.21.1 in /opt/conda/lib/python3.10/site-packages (from requests<3,>=2.21.0->tensorboard<2.13,>=2.12->tensorflow==2.12.0) (1.26.15)\r\n",
      "Requirement already satisfied: certifi>=2017.4.17 in /opt/conda/lib/python3.10/site-packages (from requests<3,>=2.21.0->tensorboard<2.13,>=2.12->tensorflow==2.12.0) (2023.5.7)\r\n",
      "Requirement already satisfied: MarkupSafe>=2.1.1 in /opt/conda/lib/python3.10/site-packages (from werkzeug>=1.0.1->tensorboard<2.13,>=2.12->tensorflow==2.12.0) (2.1.2)\r\n",
      "Requirement already satisfied: pyasn1<0.5.0,>=0.4.6 in /opt/conda/lib/python3.10/site-packages (from pyasn1-modules>=0.2.1->google-auth<3,>=1.6.3->tensorboard<2.13,>=2.12->tensorflow==2.12.0) (0.4.8)\r\n",
      "Requirement already satisfied: oauthlib>=3.0.0 in /opt/conda/lib/python3.10/site-packages (from requests-oauthlib>=0.7.0->google-auth-oauthlib<1.1,>=0.5->tensorboard<2.13,>=2.12->tensorflow==2.12.0) (3.2.2)\r\n",
      "\u001b[33mWARNING: Running pip as the 'root' user can result in broken permissions and conflicting behaviour with the system package manager. It is recommended to use a virtual environment instead: https://pip.pypa.io/warnings/venv\u001b[0m\u001b[33m\r\n",
      "\u001b[0m"
     ]
    },
    {
     "name": "stderr",
     "output_type": "stream",
     "text": [
      "/opt/conda/lib/python3.10/site-packages/tensorflow_io/python/ops/__init__.py:98: UserWarning: unable to load libtensorflow_io_plugins.so: unable to open file: libtensorflow_io_plugins.so, from paths: ['/opt/conda/lib/python3.10/site-packages/tensorflow_io/python/ops/libtensorflow_io_plugins.so']\n",
      "caused by: ['/opt/conda/lib/python3.10/site-packages/tensorflow_io/python/ops/libtensorflow_io_plugins.so: undefined symbol: _ZN3tsl6StatusC1EN10tensorflow5error4CodeESt17basic_string_viewIcSt11char_traitsIcEENS_14SourceLocationE']\n",
      "  warnings.warn(f\"unable to load libtensorflow_io_plugins.so: {e}\")\n",
      "/opt/conda/lib/python3.10/site-packages/tensorflow_io/python/ops/__init__.py:104: UserWarning: file system plugins are not loaded: unable to open file: libtensorflow_io.so, from paths: ['/opt/conda/lib/python3.10/site-packages/tensorflow_io/python/ops/libtensorflow_io.so']\n",
      "caused by: ['/opt/conda/lib/python3.10/site-packages/tensorflow_io/python/ops/libtensorflow_io.so: undefined symbol: _ZTVN10tensorflow13GcsFileSystemE']\n",
      "  warnings.warn(f\"file system plugins are not loaded: {e}\")\n"
     ]
    },
    {
     "data": {
      "text/plain": [
       "'2.12.0'"
      ]
     },
     "execution_count": 18,
     "metadata": {},
     "output_type": "execute_result"
    }
   ],
   "source": [
    "!pip install -U tensorflow==2.12.0\n",
    "import tensorflow as tf\n",
    "tf.__version__"
   ]
  },
  {
   "cell_type": "code",
   "execution_count": 19,
   "id": "f876769a",
   "metadata": {
    "execution": {
     "iopub.execute_input": "2023-06-22T19:34:37.444250Z",
     "iopub.status.busy": "2023-06-22T19:34:37.443543Z",
     "iopub.status.idle": "2023-06-22T19:34:37.544889Z",
     "shell.execute_reply": "2023-06-22T19:34:37.543304Z"
    },
    "papermill": {
     "duration": 0.115512,
     "end_time": "2023-06-22T19:34:37.547433",
     "exception": false,
     "start_time": "2023-06-22T19:34:37.431921",
     "status": "completed"
    },
    "tags": []
   },
   "outputs": [],
   "source": [
    "# define an object (inilitizing RNN)\n",
    "model = tf.keras.models.Sequential()"
   ]
  },
  {
   "cell_type": "code",
   "execution_count": 20,
   "id": "6d078379",
   "metadata": {
    "execution": {
     "iopub.execute_input": "2023-06-22T19:34:37.566940Z",
     "iopub.status.busy": "2023-06-22T19:34:37.566575Z",
     "iopub.status.idle": "2023-06-22T19:34:37.992656Z",
     "shell.execute_reply": "2023-06-22T19:34:37.991195Z"
    },
    "papermill": {
     "duration": 0.438736,
     "end_time": "2023-06-22T19:34:37.995197",
     "exception": false,
     "start_time": "2023-06-22T19:34:37.556461",
     "status": "completed"
    },
    "tags": []
   },
   "outputs": [],
   "source": [
    "# first LSTM layer\n",
    "model.add(tf.keras.layers.LSTM(units=60, activation='relu', return_sequences=True, input_shape=(60,1)))\n",
    "# dropout layer\n",
    "model.add(tf.keras.layers.Dropout(0.2))\n",
    "\n",
    "# second LSTM layer\n",
    "model.add(tf.keras.layers.LSTM(units=60, activation='relu', return_sequences=True))\n",
    "# dropout layer\n",
    "model.add(tf.keras.layers.Dropout(0.2))\n",
    "\n",
    "# third LSTM layer\n",
    "model.add(tf.keras.layers.LSTM(units=80, activation='relu', return_sequences=True))\n",
    "# dropout layer\n",
    "model.add(tf.keras.layers.Dropout(0.2))\n",
    "\n",
    "# fourth LSTM layer\n",
    "model.add(tf.keras.layers.LSTM(units=120, activation='relu'))\n",
    "# dropout layer\n",
    "model.add(tf.keras.layers.Dropout(0.2))"
   ]
  },
  {
   "cell_type": "code",
   "execution_count": 21,
   "id": "57787fc5",
   "metadata": {
    "execution": {
     "iopub.execute_input": "2023-06-22T19:34:38.015183Z",
     "iopub.status.busy": "2023-06-22T19:34:38.014786Z",
     "iopub.status.idle": "2023-06-22T19:34:38.037060Z",
     "shell.execute_reply": "2023-06-22T19:34:38.035575Z"
    },
    "papermill": {
     "duration": 0.035089,
     "end_time": "2023-06-22T19:34:38.039555",
     "exception": false,
     "start_time": "2023-06-22T19:34:38.004466",
     "status": "completed"
    },
    "tags": []
   },
   "outputs": [],
   "source": [
    "# output layer\n",
    "model.add(tf.keras.layers.Dense(units=1))"
   ]
  },
  {
   "cell_type": "code",
   "execution_count": 22,
   "id": "94c82e38",
   "metadata": {
    "execution": {
     "iopub.execute_input": "2023-06-22T19:34:38.060076Z",
     "iopub.status.busy": "2023-06-22T19:34:38.059710Z",
     "iopub.status.idle": "2023-06-22T19:34:38.095056Z",
     "shell.execute_reply": "2023-06-22T19:34:38.093575Z"
    },
    "papermill": {
     "duration": 0.047766,
     "end_time": "2023-06-22T19:34:38.096710",
     "exception": false,
     "start_time": "2023-06-22T19:34:38.048944",
     "status": "completed"
    },
    "tags": []
   },
   "outputs": [
    {
     "name": "stdout",
     "output_type": "stream",
     "text": [
      "Model: \"sequential\"\n",
      "_________________________________________________________________\n",
      " Layer (type)                Output Shape              Param #   \n",
      "=================================================================\n",
      " lstm (LSTM)                 (None, 60, 60)            14880     \n",
      "                                                                 \n",
      " dropout (Dropout)           (None, 60, 60)            0         \n",
      "                                                                 \n",
      " lstm_1 (LSTM)               (None, 60, 60)            29040     \n",
      "                                                                 \n",
      " dropout_1 (Dropout)         (None, 60, 60)            0         \n",
      "                                                                 \n",
      " lstm_2 (LSTM)               (None, 60, 80)            45120     \n",
      "                                                                 \n",
      " dropout_2 (Dropout)         (None, 60, 80)            0         \n",
      "                                                                 \n",
      " lstm_3 (LSTM)               (None, 120)               96480     \n",
      "                                                                 \n",
      " dropout_3 (Dropout)         (None, 120)               0         \n",
      "                                                                 \n",
      " dense (Dense)               (None, 1)                 121       \n",
      "                                                                 \n",
      "=================================================================\n",
      "Total params: 185,641\n",
      "Trainable params: 185,641\n",
      "Non-trainable params: 0\n",
      "_________________________________________________________________\n"
     ]
    }
   ],
   "source": [
    "model.summary()"
   ]
  },
  {
   "cell_type": "code",
   "execution_count": 23,
   "id": "e2c9409a",
   "metadata": {
    "execution": {
     "iopub.execute_input": "2023-06-22T19:34:38.119604Z",
     "iopub.status.busy": "2023-06-22T19:34:38.119244Z",
     "iopub.status.idle": "2023-06-22T19:34:38.143317Z",
     "shell.execute_reply": "2023-06-22T19:34:38.141909Z"
    },
    "papermill": {
     "duration": 0.038232,
     "end_time": "2023-06-22T19:34:38.145545",
     "exception": false,
     "start_time": "2023-06-22T19:34:38.107313",
     "status": "completed"
    },
    "tags": []
   },
   "outputs": [],
   "source": [
    "# compile the model\n",
    "model.compile(optimizer='adam', loss='mean_squared_error')"
   ]
  },
  {
   "cell_type": "code",
   "execution_count": 24,
   "id": "518aab38",
   "metadata": {
    "execution": {
     "iopub.execute_input": "2023-06-22T19:34:38.167681Z",
     "iopub.status.busy": "2023-06-22T19:34:38.167317Z",
     "iopub.status.idle": "2023-06-22T19:43:04.666706Z",
     "shell.execute_reply": "2023-06-22T19:43:04.665363Z"
    },
    "papermill": {
     "duration": 506.512789,
     "end_time": "2023-06-22T19:43:04.668673",
     "exception": false,
     "start_time": "2023-06-22T19:34:38.155884",
     "status": "completed"
    },
    "tags": []
   },
   "outputs": [
    {
     "name": "stdout",
     "output_type": "stream",
     "text": [
      "Epoch 1/100\n",
      "38/38 [==============================] - 9s 129ms/step - loss: 0.0531\n",
      "Epoch 2/100\n",
      "38/38 [==============================] - 5s 126ms/step - loss: 0.0079\n",
      "Epoch 3/100\n",
      "38/38 [==============================] - 5s 125ms/step - loss: 0.0066\n",
      "Epoch 4/100\n",
      "38/38 [==============================] - 5s 124ms/step - loss: 0.0063\n",
      "Epoch 5/100\n",
      "38/38 [==============================] - 5s 124ms/step - loss: 0.0058\n",
      "Epoch 6/100\n",
      "38/38 [==============================] - 5s 125ms/step - loss: 0.0061\n",
      "Epoch 7/100\n",
      "38/38 [==============================] - 5s 126ms/step - loss: 0.0049\n",
      "Epoch 8/100\n",
      "38/38 [==============================] - 5s 128ms/step - loss: 0.0051\n",
      "Epoch 9/100\n",
      "38/38 [==============================] - 5s 126ms/step - loss: 0.0046\n",
      "Epoch 10/100\n",
      "38/38 [==============================] - 5s 128ms/step - loss: 0.0047\n",
      "Epoch 11/100\n",
      "38/38 [==============================] - 5s 126ms/step - loss: 0.0043\n",
      "Epoch 12/100\n",
      "38/38 [==============================] - 5s 127ms/step - loss: 0.0041\n",
      "Epoch 13/100\n",
      "38/38 [==============================] - 5s 128ms/step - loss: 0.0037\n",
      "Epoch 14/100\n",
      "38/38 [==============================] - 5s 130ms/step - loss: 0.0040\n",
      "Epoch 15/100\n",
      "38/38 [==============================] - 5s 129ms/step - loss: 0.0044\n",
      "Epoch 16/100\n",
      "38/38 [==============================] - 5s 129ms/step - loss: 0.0045\n",
      "Epoch 17/100\n",
      "38/38 [==============================] - 5s 128ms/step - loss: 0.0038\n",
      "Epoch 18/100\n",
      "38/38 [==============================] - 5s 128ms/step - loss: 0.0034\n",
      "Epoch 19/100\n",
      "38/38 [==============================] - 5s 130ms/step - loss: 0.0030\n",
      "Epoch 20/100\n",
      "38/38 [==============================] - 5s 131ms/step - loss: 0.0031\n",
      "Epoch 21/100\n",
      "38/38 [==============================] - 5s 130ms/step - loss: 0.0030\n",
      "Epoch 22/100\n",
      "38/38 [==============================] - 5s 129ms/step - loss: 0.0033\n",
      "Epoch 23/100\n",
      "38/38 [==============================] - 5s 129ms/step - loss: 0.0036\n",
      "Epoch 24/100\n",
      "38/38 [==============================] - 5s 129ms/step - loss: 0.0031\n",
      "Epoch 25/100\n",
      "38/38 [==============================] - 5s 128ms/step - loss: 0.0028\n",
      "Epoch 26/100\n",
      "38/38 [==============================] - 5s 125ms/step - loss: 0.0027\n",
      "Epoch 27/100\n",
      "38/38 [==============================] - 5s 131ms/step - loss: 0.0028\n",
      "Epoch 28/100\n",
      "38/38 [==============================] - 5s 127ms/step - loss: 0.0027\n",
      "Epoch 29/100\n",
      "38/38 [==============================] - 5s 127ms/step - loss: 0.0023\n",
      "Epoch 30/100\n",
      "38/38 [==============================] - 5s 127ms/step - loss: 0.0026\n",
      "Epoch 31/100\n",
      "38/38 [==============================] - 5s 130ms/step - loss: 0.0025\n",
      "Epoch 32/100\n",
      "38/38 [==============================] - 5s 126ms/step - loss: 0.0023\n",
      "Epoch 33/100\n",
      "38/38 [==============================] - 5s 131ms/step - loss: 0.0023\n",
      "Epoch 34/100\n",
      "38/38 [==============================] - 5s 130ms/step - loss: 0.0024\n",
      "Epoch 35/100\n",
      "38/38 [==============================] - 5s 128ms/step - loss: 0.0023\n",
      "Epoch 36/100\n",
      "38/38 [==============================] - 5s 128ms/step - loss: 0.0027\n",
      "Epoch 37/100\n",
      "38/38 [==============================] - 5s 129ms/step - loss: 0.0024\n",
      "Epoch 38/100\n",
      "38/38 [==============================] - 5s 127ms/step - loss: 0.0028\n",
      "Epoch 39/100\n",
      "38/38 [==============================] - 5s 126ms/step - loss: 0.0023\n",
      "Epoch 40/100\n",
      "38/38 [==============================] - 5s 127ms/step - loss: 0.0023\n",
      "Epoch 41/100\n",
      "38/38 [==============================] - 5s 129ms/step - loss: 0.0023\n",
      "Epoch 42/100\n",
      "38/38 [==============================] - 5s 128ms/step - loss: 0.0022\n",
      "Epoch 43/100\n",
      "38/38 [==============================] - 5s 127ms/step - loss: 0.0021\n",
      "Epoch 44/100\n",
      "38/38 [==============================] - 5s 124ms/step - loss: 0.0020\n",
      "Epoch 45/100\n",
      "38/38 [==============================] - 5s 124ms/step - loss: 0.0020\n",
      "Epoch 46/100\n",
      "38/38 [==============================] - 5s 125ms/step - loss: 0.0020\n",
      "Epoch 47/100\n",
      "38/38 [==============================] - 5s 126ms/step - loss: 0.0021\n",
      "Epoch 48/100\n",
      "38/38 [==============================] - 5s 127ms/step - loss: 0.0023\n",
      "Epoch 49/100\n",
      "38/38 [==============================] - 5s 132ms/step - loss: 0.0021\n",
      "Epoch 50/100\n",
      "38/38 [==============================] - 5s 129ms/step - loss: 0.0021\n",
      "Epoch 51/100\n",
      "38/38 [==============================] - 5s 128ms/step - loss: 0.0024\n",
      "Epoch 52/100\n",
      "38/38 [==============================] - 5s 130ms/step - loss: 0.0022\n",
      "Epoch 53/100\n",
      "38/38 [==============================] - 5s 130ms/step - loss: 0.0020\n",
      "Epoch 54/100\n",
      "38/38 [==============================] - 5s 126ms/step - loss: 0.0018\n",
      "Epoch 55/100\n",
      "38/38 [==============================] - 5s 130ms/step - loss: 0.0018\n",
      "Epoch 56/100\n",
      "38/38 [==============================] - 5s 128ms/step - loss: 0.0019\n",
      "Epoch 57/100\n",
      "38/38 [==============================] - 5s 128ms/step - loss: 0.0018\n",
      "Epoch 58/100\n",
      "38/38 [==============================] - 5s 126ms/step - loss: 0.0019\n",
      "Epoch 59/100\n",
      "38/38 [==============================] - 5s 131ms/step - loss: 0.0019\n",
      "Epoch 60/100\n",
      "38/38 [==============================] - 5s 130ms/step - loss: 0.0022\n",
      "Epoch 61/100\n",
      "38/38 [==============================] - 5s 125ms/step - loss: 0.0020\n",
      "Epoch 62/100\n",
      "38/38 [==============================] - 5s 131ms/step - loss: 0.0017\n",
      "Epoch 63/100\n",
      "38/38 [==============================] - 5s 127ms/step - loss: 0.0018\n",
      "Epoch 64/100\n",
      "38/38 [==============================] - 5s 125ms/step - loss: 0.0022\n",
      "Epoch 65/100\n",
      "38/38 [==============================] - 5s 127ms/step - loss: 0.0018\n",
      "Epoch 66/100\n",
      "38/38 [==============================] - 5s 130ms/step - loss: 0.0018\n",
      "Epoch 67/100\n",
      "38/38 [==============================] - 5s 128ms/step - loss: 0.0019\n",
      "Epoch 68/100\n",
      "38/38 [==============================] - 5s 129ms/step - loss: 0.0020\n",
      "Epoch 69/100\n",
      "38/38 [==============================] - 5s 125ms/step - loss: 0.0020\n",
      "Epoch 70/100\n",
      "38/38 [==============================] - 5s 128ms/step - loss: 0.0019\n",
      "Epoch 71/100\n",
      "38/38 [==============================] - 5s 127ms/step - loss: 0.0018\n",
      "Epoch 72/100\n",
      "38/38 [==============================] - 5s 129ms/step - loss: 0.0015\n",
      "Epoch 73/100\n",
      "38/38 [==============================] - 5s 127ms/step - loss: 0.0018\n",
      "Epoch 74/100\n",
      "38/38 [==============================] - 5s 131ms/step - loss: 0.0017\n",
      "Epoch 75/100\n",
      "38/38 [==============================] - 5s 130ms/step - loss: 0.0018\n",
      "Epoch 76/100\n",
      "38/38 [==============================] - 5s 133ms/step - loss: 0.0018\n",
      "Epoch 77/100\n",
      "38/38 [==============================] - 5s 128ms/step - loss: 0.0019\n",
      "Epoch 78/100\n",
      "38/38 [==============================] - 5s 131ms/step - loss: 0.0016\n",
      "Epoch 79/100\n",
      "38/38 [==============================] - 5s 127ms/step - loss: 0.0017\n",
      "Epoch 80/100\n",
      "38/38 [==============================] - 5s 129ms/step - loss: 0.0022\n",
      "Epoch 81/100\n",
      "38/38 [==============================] - 5s 128ms/step - loss: 0.0020\n",
      "Epoch 82/100\n",
      "38/38 [==============================] - 5s 133ms/step - loss: 0.0016\n",
      "Epoch 83/100\n",
      "38/38 [==============================] - 5s 129ms/step - loss: 0.0018\n",
      "Epoch 84/100\n",
      "38/38 [==============================] - 5s 133ms/step - loss: 0.0015\n",
      "Epoch 85/100\n",
      "38/38 [==============================] - 5s 129ms/step - loss: 0.0015\n",
      "Epoch 86/100\n",
      "38/38 [==============================] - 5s 129ms/step - loss: 0.0019\n",
      "Epoch 87/100\n",
      "38/38 [==============================] - 5s 130ms/step - loss: 0.0015\n",
      "Epoch 88/100\n",
      "38/38 [==============================] - 5s 131ms/step - loss: 0.0017\n",
      "Epoch 89/100\n",
      "38/38 [==============================] - 5s 133ms/step - loss: 0.0017\n",
      "Epoch 90/100\n",
      "38/38 [==============================] - 5s 128ms/step - loss: 0.0017\n",
      "Epoch 91/100\n",
      "38/38 [==============================] - 5s 129ms/step - loss: 0.0016\n",
      "Epoch 92/100\n",
      "38/38 [==============================] - 5s 129ms/step - loss: 0.0015\n",
      "Epoch 93/100\n",
      "38/38 [==============================] - 5s 130ms/step - loss: 0.0016\n",
      "Epoch 94/100\n",
      "38/38 [==============================] - 5s 126ms/step - loss: 0.0014\n",
      "Epoch 95/100\n",
      "38/38 [==============================] - 5s 126ms/step - loss: 0.0015\n",
      "Epoch 96/100\n",
      "38/38 [==============================] - 5s 128ms/step - loss: 0.0016\n",
      "Epoch 97/100\n",
      "38/38 [==============================] - 5s 127ms/step - loss: 0.0015\n",
      "Epoch 98/100\n",
      "38/38 [==============================] - 5s 129ms/step - loss: 0.0017\n",
      "Epoch 99/100\n",
      "38/38 [==============================] - 5s 129ms/step - loss: 0.0016\n",
      "Epoch 100/100\n",
      "38/38 [==============================] - 5s 127ms/step - loss: 0.0015\n"
     ]
    },
    {
     "data": {
      "text/plain": [
       "<keras.callbacks.History at 0x7ff4e40867a0>"
      ]
     },
     "execution_count": 24,
     "metadata": {},
     "output_type": "execute_result"
    }
   ],
   "source": [
    "model.fit(x_train, y_train, batch_size=32, epochs=100)"
   ]
  },
  {
   "cell_type": "code",
   "execution_count": 25,
   "id": "4aea10e2",
   "metadata": {
    "execution": {
     "iopub.execute_input": "2023-06-22T19:43:05.142235Z",
     "iopub.status.busy": "2023-06-22T19:43:05.141888Z",
     "iopub.status.idle": "2023-06-22T19:43:05.156306Z",
     "shell.execute_reply": "2023-06-22T19:43:05.155171Z"
    },
    "papermill": {
     "duration": 0.252329,
     "end_time": "2023-06-22T19:43:05.158741",
     "exception": false,
     "start_time": "2023-06-22T19:43:04.906412",
     "status": "completed"
    },
    "tags": []
   },
   "outputs": [],
   "source": [
    "# getting the real stock prices of Last One Year\n",
    "test_data = pd.read_csv('/kaggle/input/tesla-inc-last-5-years-stock-historical-data/TSLA Testing.csv')"
   ]
  },
  {
   "cell_type": "code",
   "execution_count": 26,
   "id": "6346ec42",
   "metadata": {
    "execution": {
     "iopub.execute_input": "2023-06-22T19:43:05.623592Z",
     "iopub.status.busy": "2023-06-22T19:43:05.622926Z",
     "iopub.status.idle": "2023-06-22T19:43:05.629332Z",
     "shell.execute_reply": "2023-06-22T19:43:05.627585Z"
    },
    "papermill": {
     "duration": 0.239994,
     "end_time": "2023-06-22T19:43:05.631619",
     "exception": false,
     "start_time": "2023-06-22T19:43:05.391625",
     "status": "completed"
    },
    "tags": []
   },
   "outputs": [
    {
     "data": {
      "text/plain": [
       "(251, 7)"
      ]
     },
     "execution_count": 26,
     "metadata": {},
     "output_type": "execute_result"
    }
   ],
   "source": [
    "test_data.shape"
   ]
  },
  {
   "cell_type": "code",
   "execution_count": 27,
   "id": "79a0b534",
   "metadata": {
    "execution": {
     "iopub.execute_input": "2023-06-22T19:43:06.159780Z",
     "iopub.status.busy": "2023-06-22T19:43:06.158734Z",
     "iopub.status.idle": "2023-06-22T19:43:06.171083Z",
     "shell.execute_reply": "2023-06-22T19:43:06.169451Z"
    },
    "papermill": {
     "duration": 0.246248,
     "end_time": "2023-06-22T19:43:06.173508",
     "exception": false,
     "start_time": "2023-06-22T19:43:05.927260",
     "status": "completed"
    },
    "tags": []
   },
   "outputs": [
    {
     "name": "stdout",
     "output_type": "stream",
     "text": [
      "<class 'pandas.core.frame.DataFrame'>\n",
      "RangeIndex: 251 entries, 0 to 250\n",
      "Data columns (total 7 columns):\n",
      " #   Column     Non-Null Count  Dtype  \n",
      "---  ------     --------------  -----  \n",
      " 0   Date       251 non-null    object \n",
      " 1   Open       251 non-null    float64\n",
      " 2   High       251 non-null    float64\n",
      " 3   Low        251 non-null    float64\n",
      " 4   Close      251 non-null    float64\n",
      " 5   Adj Close  251 non-null    float64\n",
      " 6   Volume     251 non-null    int64  \n",
      "dtypes: float64(5), int64(1), object(1)\n",
      "memory usage: 13.9+ KB\n"
     ]
    }
   ],
   "source": [
    "test_data.info()"
   ]
  },
  {
   "cell_type": "code",
   "execution_count": 28,
   "id": "c8582c37",
   "metadata": {
    "execution": {
     "iopub.execute_input": "2023-06-22T19:43:06.645871Z",
     "iopub.status.busy": "2023-06-22T19:43:06.644673Z",
     "iopub.status.idle": "2023-06-22T19:43:06.650272Z",
     "shell.execute_reply": "2023-06-22T19:43:06.649147Z"
    },
    "papermill": {
     "duration": 0.242353,
     "end_time": "2023-06-22T19:43:06.652180",
     "exception": false,
     "start_time": "2023-06-22T19:43:06.409827",
     "status": "completed"
    },
    "tags": []
   },
   "outputs": [],
   "source": [
    "real_stock_price = test_data.iloc[:, 1:2].values"
   ]
  },
  {
   "cell_type": "code",
   "execution_count": 29,
   "id": "d740ee93",
   "metadata": {
    "execution": {
     "iopub.execute_input": "2023-06-22T19:43:07.135328Z",
     "iopub.status.busy": "2023-06-22T19:43:07.134734Z",
     "iopub.status.idle": "2023-06-22T19:43:07.140449Z",
     "shell.execute_reply": "2023-06-22T19:43:07.139404Z"
    },
    "papermill": {
     "duration": 0.247098,
     "end_time": "2023-06-22T19:43:07.142377",
     "exception": false,
     "start_time": "2023-06-22T19:43:06.895279",
     "status": "completed"
    },
    "tags": []
   },
   "outputs": [
    {
     "data": {
      "text/plain": [
       "(251, 1)"
      ]
     },
     "execution_count": 29,
     "metadata": {},
     "output_type": "execute_result"
    }
   ],
   "source": [
    "real_stock_price.shape"
   ]
  },
  {
   "cell_type": "code",
   "execution_count": 30,
   "id": "feff2531",
   "metadata": {
    "execution": {
     "iopub.execute_input": "2023-06-22T19:43:07.688755Z",
     "iopub.status.busy": "2023-06-22T19:43:07.687676Z",
     "iopub.status.idle": "2023-06-22T19:43:08.814229Z",
     "shell.execute_reply": "2023-06-22T19:43:08.813443Z"
    },
    "papermill": {
     "duration": 1.434156,
     "end_time": "2023-06-22T19:43:08.816572",
     "exception": false,
     "start_time": "2023-06-22T19:43:07.382416",
     "status": "completed"
    },
    "tags": []
   },
   "outputs": [
    {
     "name": "stdout",
     "output_type": "stream",
     "text": [
      "8/8 [==============================] - 1s 39ms/step\n"
     ]
    }
   ],
   "source": [
    "# Getting predicted stock prices of Last One Year from 22-06-2022 to 22-06-2023\n",
    "\n",
    "# concatination\n",
    "dataset_total = pd.concat((training_data['Open'], test_data['Open']), axis = 0)\n",
    "\n",
    "# stock prices of previous 60 days for each day\n",
    "inputs = dataset_total[len(dataset_total) - len(test_data) - 60:].values\n",
    "\n",
    "# reshape (convert into numpy array)\n",
    "inputs = inputs.reshape(-1,1)\n",
    "\n",
    "# feature scaling\n",
    "inputs = sc.transform(inputs)\n",
    "\n",
    "# creating a test set\n",
    "\n",
    "x_test = []\n",
    "for i in range(60, 310):\n",
    "  x_test.append(inputs[i-60:i, 0])\n",
    "\n",
    "# convert in numpy array\n",
    "x_test = np.array(x_test)\n",
    "\n",
    "# convert in 3D (required to process)\n",
    "x_test = np.reshape(x_test, (x_test.shape[0], x_test.shape[1], 1))\n",
    "\n",
    "# getting predicted stock prices\n",
    "predicted_stock_price = model.predict(x_test)\n",
    "predicted_stock_price = sc.inverse_transform(predicted_stock_price)"
   ]
  },
  {
   "cell_type": "code",
   "execution_count": 31,
   "id": "0e7b8052",
   "metadata": {
    "execution": {
     "iopub.execute_input": "2023-06-22T19:43:09.286280Z",
     "iopub.status.busy": "2023-06-22T19:43:09.285878Z",
     "iopub.status.idle": "2023-06-22T19:43:09.294674Z",
     "shell.execute_reply": "2023-06-22T19:43:09.293400Z"
    },
    "papermill": {
     "duration": 0.245511,
     "end_time": "2023-06-22T19:43:09.297413",
     "exception": false,
     "start_time": "2023-06-22T19:43:09.051902",
     "status": "completed"
    },
    "tags": []
   },
   "outputs": [
    {
     "name": "stdout",
     "output_type": "stream",
     "text": [
      "[238.4599]\n",
      "[230.5]\n"
     ]
    },
    {
     "data": {
      "text/plain": [
       "(None, None)"
      ]
     },
     "execution_count": 31,
     "metadata": {},
     "output_type": "execute_result"
    }
   ],
   "source": [
    "print(predicted_stock_price[5]), print(real_stock_price[5])"
   ]
  },
  {
   "cell_type": "code",
   "execution_count": 32,
   "id": "1d9d2435",
   "metadata": {
    "execution": {
     "iopub.execute_input": "2023-06-22T19:43:09.762484Z",
     "iopub.status.busy": "2023-06-22T19:43:09.761863Z",
     "iopub.status.idle": "2023-06-22T19:43:10.030460Z",
     "shell.execute_reply": "2023-06-22T19:43:10.029534Z"
    },
    "papermill": {
     "duration": 0.502683,
     "end_time": "2023-06-22T19:43:10.032681",
     "exception": false,
     "start_time": "2023-06-22T19:43:09.529998",
     "status": "completed"
    },
    "tags": []
   },
   "outputs": [
    {
     "data": {
      "image/png": "[encoded data removed]",
      "text/plain": [
       "<Figure size 640x480 with 1 Axes>"
      ]
     },
     "metadata": {},
     "output_type": "display_data"
    }
   ],
   "source": [
    "# Visualising the results\n",
    "plt.plot(real_stock_price, color='red', label='Real Tesla Inc. Stock Price')\n",
    "plt.plot(predicted_stock_price, color='blue', label='Predicted Tesla Inc. Stock Price')\n",
    "plt.title('Tesla Inc. Stock Price Prediction')\n",
    "plt.xlabel('Time')\n",
    "plt.ylabel('Tesla Inc. Stock Price')\n",
    "plt.legend()\n",
    "plt.show()"
   ]
  },
  {
   "cell_type": "code",
   "execution_count": null,
   "id": "3b84e35e",
   "metadata": {
    "papermill": {
     "duration": 0.240098,
     "end_time": "2023-06-22T19:43:10.509014",
     "exception": false,
     "start_time": "2023-06-22T19:43:10.268916",
     "status": "completed"
    },
    "tags": []
   },
   "outputs": [],
   "source": []
  }
 ],
 "metadata": {
  "kernelspec": {
   "display_name": "Python 3",
   "language": "python",
   "name": "python3"
  },
  "language_info": {
   "codemirror_mode": {
    "name": "ipython",
    "version": 3
   },
   "file_extension": ".py",
   "mimetype": "text/x-python",
   "name": "python",
   "nbconvert_exporter": "python",
   "pygments_lexer": "ipython3",
   "version": "3.10.10"
  },
  "papermill": {
   "default_parameters": {},
   "duration": 550.898955,
   "end_time": "2023-06-22T19:43:13.681991",
   "environment_variables": {},
   "exception": null,
   "input_path": "__notebook__.ipynb",
   "output_path": "__notebook__.ipynb",
   "parameters": {},
   "start_time": "2023-06-22T19:34:02.783036",
   "version": "2.4.0"
  }
 },
 "nbformat": 4,
 "nbformat_minor": 5
}
